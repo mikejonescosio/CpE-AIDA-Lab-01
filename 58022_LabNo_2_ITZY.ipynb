{
  "nbformat": 4,
  "nbformat_minor": 0,
  "metadata": {
    "colab": {
      "name": "58022_LabNo.2_ITZY",
      "provenance": [],
      "collapsed_sections": []
    },
    "kernelspec": {
      "name": "python3",
      "display_name": "Python 3"
    },
    "language_info": {
      "name": "python"
    }
  },
  "cells": [
    {
      "cell_type": "markdown",
      "source": [
        "#Laboratory 1: Software Engineering\n",
        "\n",
        "\n"
      ],
      "metadata": {
        "id": "XIPoKOIHY5nL"
      }
    },
    {
      "cell_type": "markdown",
      "source": [
        "#ITZY\n",
        "\n",
        "Escosio, Michael Jon F.\n",
        "\n",
        "Garcia, Lee Gerome M.\n",
        "\n",
        "Nuñez, Sean Patrick N.\n",
        "\n",
        "Rivera, Mhike Romuel B.\n"
      ],
      "metadata": {
        "id": "1zzdsNgNY8om"
      }
    },
    {
      "cell_type": "markdown",
      "source": [
        "### Task 1: Setting the Class Grades\n",
        "1. Create variable declarations for:\n",
        "        - Last Names\n",
        "        - First Names\n",
        "        - Grades for Prelims\n",
        "        - Grades for Midterms\n",
        "        - Grades for Finals \n",
        "2. Create a `dictionary` for consolidating the data from Task 1.1"
      ],
      "metadata": {
        "id": "XWdTkyFDY_B1"
      }
    },
    {
      "cell_type": "code",
      "source": [
        "import numpy as np\n",
        "from scipy import stats"
      ],
      "metadata": {
        "id": "g5W1_KAGhRJZ"
      },
      "execution_count": null,
      "outputs": []
    },
    {
      "cell_type": "code",
      "execution_count": null,
      "metadata": {
        "id": "UySDwiRiY2Ko"
      },
      "outputs": [],
      "source": [
        "#Declaring variables\n",
        "surname     = [\"Escosio\", \"Garcia\", \"Nuñez\", \"Rivera\"]\n",
        "firstname    = [\"Michael\", \"Lee\", \"Sean\", \"Mhike\"]\n",
        "prelim  = [1.00, 1.25, 1.50, 1.75]\n",
        "midterm = [1.25, 1.50, 1.75, 1.00]\n",
        "finals   = [1.75, 1.75, 1.00, 1.25]\n",
        "\n"
      ]
    },
    {
      "cell_type": "code",
      "source": [
        "#Creating a dictionary \n",
        "list = {\n",
        "      \"surname\":surname,\n",
        "      \"first name\":firstname,\n",
        "      \"prelim\":prelim,\n",
        "      \"midterm\":midterm,\n",
        "      \"finals\":finals,\n",
        "  }\n",
        "list\n"
      ],
      "metadata": {
        "colab": {
          "base_uri": "https://localhost:8080/"
        },
        "id": "QJ6dmeeTZDA_",
        "outputId": "1204221d-e3e4-43e7-cde6-02ea47c577a5"
      },
      "execution_count": null,
      "outputs": [
        {
          "output_type": "execute_result",
          "data": {
            "text/plain": [
              "{'finals': [1.75, 1.75, 1.0, 1.25],\n",
              " 'first name': ['Michael', 'Lee', 'Sean', 'Mhike'],\n",
              " 'midterm': [1.25, 1.5, 1.75, 1.0],\n",
              " 'prelim': [1.0, 1.25, 1.5, 1.75],\n",
              " 'surname': ['Escosio', 'Garcia', 'Nuñez', 'Rivera']}"
            ]
          },
          "metadata": {},
          "execution_count": 84
        }
      ]
    },
    {
      "cell_type": "markdown",
      "source": [
        "### Task 2: Getting Class Statistics\n",
        "1. Create a function named `get_grades()` for computing the semestral grade of each student:\n",
        "\n",
        "  `inputs`: `dictionary` of a class grade sheet.\n",
        "  \n",
        "  `outpus`: `dictionary` showing:\n",
        "  * The prelim, midterms, and finals grades of each student\n",
        "  * The semestral grade of each student\n",
        "\n",
        "2. Create a function named `get_class_stats()`.\n",
        "  \n",
        "  `inputs`: `dictionary` from `get_grades()`.\n",
        "  \n",
        "  `outpus`: `dictionary` showing:\n",
        "  * The lowest and highest prelim, midterm, finals, and semestral grades\n",
        "  * the mean, median, mode, and standard deviation of the grades\n"
      ],
      "metadata": {
        "id": "1iIaUi7-ZEFJ"
      }
    },
    {
      "cell_type": "code",
      "source": [
        "#Task 2.1 Create a function named get_grades()\n",
        "\n",
        "def get_grades(list):\n",
        "  grade=list.copy()                                                                                         \n",
        "  semgrade=[]                  \n",
        "  for students in range(len(list)-1):      #Calculate the semestral grade                                                                     \n",
        "    semgrade.append(grade[\"prelim\"][students]*0.3+grade[\"midterm\"][students]*0.3+grade[\"finals\"][students]*0.4)\n",
        "    grade[\"sem grade\"]=semgrade                                                                                     \n",
        "  return grade\n",
        "semgrade=get_grades(list)\n",
        "semgrade"
      ],
      "metadata": {
        "id": "QGeoqvJg-QQS",
        "colab": {
          "base_uri": "https://localhost:8080/"
        },
        "outputId": "1ede9f76-a8bd-455c-8457-123d913e04b3"
      },
      "execution_count": null,
      "outputs": [
        {
          "output_type": "execute_result",
          "data": {
            "text/plain": [
              "{'finals': [1.75, 1.75, 1.0, 1.25],\n",
              " 'first name': ['Michael', 'Lee', 'Sean', 'Mhike'],\n",
              " 'midterm': [1.25, 1.5, 1.75, 1.0],\n",
              " 'prelim': [1.0, 1.25, 1.5, 1.75],\n",
              " 'sem grade': [1.375, 1.525, 1.375, 1.325],\n",
              " 'surname': ['Escosio', 'Garcia', 'Nuñez', 'Rivera']}"
            ]
          },
          "metadata": {},
          "execution_count": 85
        }
      ]
    },
    {
      "cell_type": "code",
      "source": [
        "#Task 2.2 Create a function named get_class_stats()\n",
        "\n",
        "def get_class_stats(grade):\n",
        "  class_stats={}\n",
        "  class_stats[\"Highest Prelim Grade\"]=max(grade[\"prelim\"])\n",
        "  class_stats[\"Lowest Prelim Grade\"]=min(grade[\"prelim\"])\n",
        "  class_stats[\"Highest Midterm Grade\"]=max(grade[\"midterm\"])\n",
        "  class_stats[\"Lowest Midterm Grade\"]=min(grade[\"midterm\"])\n",
        "  class_stats[\"Highest Finals Grade\"]=max(grade[\"finals\"])\n",
        "  class_stats[\"Lowest Finals Grade\"]=min(grade[\"finals\"])\n",
        "  class_stats[\"Highest Semestral Grade\"]=max(grade[\"sem grade\"])\n",
        "  class_stats[\"Lowest Semestral Grade\"]=min(grade[\"sem grade\"])\n",
        "  class_stats[\"Mean\"]=np.mean(grade[\"sem grade\"])\n",
        "  class_stats[\"Median\"]=np.median(grade[\"sem grade\"])\n",
        "  class_stats[\"Mode\"]=int(stats.mode(grade[\"sem grade\"])[0])\n",
        "  class_stats[\"Standard Deviation\"]=np.std(grade[\"sem grade\"])\n",
        "  return(class_stats)\n",
        "\n",
        "class_stats=get_class_stats(semgrade)\n",
        "class_stats"
      ],
      "metadata": {
        "colab": {
          "base_uri": "https://localhost:8080/"
        },
        "id": "lJs2hLZ0mLiw",
        "outputId": "af859b18-0cb8-4819-82e9-3755d4d7caca"
      },
      "execution_count": null,
      "outputs": [
        {
          "output_type": "execute_result",
          "data": {
            "text/plain": [
              "{'Highest Finals Grade': 1.75,\n",
              " 'Highest Midterm Grade': 1.75,\n",
              " 'Highest Prelim Grade': 1.75,\n",
              " 'Highest Semestral Grade': 1.525,\n",
              " 'Lowest Finals Grade': 1.0,\n",
              " 'Lowest Midterm Grade': 1.0,\n",
              " 'Lowest Prelim Grade': 1.0,\n",
              " 'Lowest Semestral Grade': 1.325,\n",
              " 'Mean': 1.4000000000000001,\n",
              " 'Median': 1.375,\n",
              " 'Mode': 1,\n",
              " 'Standard Deviation': 0.07499999999999997}"
            ]
          },
          "metadata": {},
          "execution_count": 86
        }
      ]
    },
    {
      "cell_type": "markdown",
      "source": [
        "### Task 3: Advanced Class Functions\n",
        "1. Optimize `get_grades()` by eliminating for loops in your function.\n",
        "2. Create a function named `get_similar_students()`\n",
        "  \n",
        "  `inputs`: two (2) class `dictionary`\n",
        "  \n",
        "  `outputs`: list of common student numbers.\n",
        "\n",
        "  *Note*: The function should not contain iterative code blocks (i.e. `for` or `while` loops, or list comprehension)"
      ],
      "metadata": {
        "id": "jx3vSGptZGMu"
      }
    },
    {
      "cell_type": "code",
      "source": [
        "#Task 3.1 Optimized get_grades()\n"
      ],
      "metadata": {
        "id": "zs7VuRkfZIOD"
      },
      "execution_count": null,
      "outputs": []
    },
    {
      "cell_type": "code",
      "source": [
        "#Task 3.2 Create a function get_similar_students()"
      ],
      "metadata": {
        "id": "AMtG47fxN_Uq"
      },
      "execution_count": null,
      "outputs": []
    },
    {
      "cell_type": "markdown",
      "source": [
        "### Task 4: Class of Classes\n",
        "1. Modify the `class` `Section` and integrate the functions from Tasks 1 to 3 as its methods. Make sure that the codes are optimized.\n",
        "2. Create a `method` named `get_failed()` wherein it will create a list of all the failed students in the class.\n",
        "3. Create a `method` named `fail_count()` wherein it will return the count of the failed students.\n",
        "\n",
        "** **Note:** due to data privacy, the data privacy office has mandated your code to refrain from printing the student number and names of students. Their student numbers and names  must be masked with asterisks."
      ],
      "metadata": {
        "id": "CpXuJeOys7AT"
      }
    },
    {
      "cell_type": "code",
      "source": [
        ""
      ],
      "metadata": {
        "id": "7UpE_e49s7lA"
      },
      "execution_count": null,
      "outputs": []
    }
  ]
}